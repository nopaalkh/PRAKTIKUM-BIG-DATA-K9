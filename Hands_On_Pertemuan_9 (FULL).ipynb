{
  "cells": [
    {
      "cell_type": "markdown",
      "id": "115f65d3",
      "metadata": {
        "id": "115f65d3"
      },
      "source": [
        "# Hands-On Pertemuan 9: Spark SQL"
      ]
    },
    {
      "cell_type": "markdown",
      "id": "7f0fa7f9",
      "metadata": {
        "id": "7f0fa7f9"
      },
      "source": [
        "## Tujuan:\n",
        "- Mengasah keterampilan analisis data menggunakan Spark SQL.\n",
        "- Melakukan lebih banyak latihan SQL yang mengarah ke skenario dunia nyata.\n",
        "- Mempersiapkan mahasiswa untuk menggunakan Spark SQL dalam proyek besar.\n"
      ]
    },
    {
      "cell_type": "code",
      "source": [
        "!pip install pyspark\n",
        "from pyspark.sql import SparkSession\n",
        "\n",
        "spark = SparkSession.builder \\\n",
        "    .appName(\"Pertemuan9\") \\\n",
        "    .getOrCreate()\n"
      ],
      "metadata": {
        "colab": {
          "base_uri": "https://localhost:8080/"
        },
        "id": "3SEheIIwy8lc",
        "outputId": "29a11532-7df5-410b-acf4-90624bc6ce40"
      },
      "id": "3SEheIIwy8lc",
      "execution_count": 2,
      "outputs": [
        {
          "output_type": "stream",
          "name": "stdout",
          "text": [
            "Requirement already satisfied: pyspark in /usr/local/lib/python3.10/dist-packages (3.5.3)\n",
            "Requirement already satisfied: py4j==0.10.9.7 in /usr/local/lib/python3.10/dist-packages (from pyspark) (0.10.9.7)\n"
          ]
        }
      ]
    },
    {
      "cell_type": "markdown",
      "id": "3a45dcb9",
      "metadata": {
        "id": "3a45dcb9"
      },
      "source": [
        "### 1. Refresher: Basic SQL Operations in Spark SQL\n",
        "- **Tugas 1**: Ulangi pemahaman Anda tentang SQL dasar dengan menjalankan queries sederhana pada dataset di Spark SQL.\n"
      ]
    },
    {
      "cell_type": "code",
      "execution_count": null,
      "id": "974a023b",
      "metadata": {
        "colab": {
          "base_uri": "https://localhost:8080/"
        },
        "id": "974a023b",
        "outputId": "c4345285-caec-4112-b4f0-d67d0fe78043"
      },
      "outputs": [
        {
          "output_type": "stream",
          "name": "stdout",
          "text": [
            "+-----+---+------+------+------+\n",
            "| Name|Age|Gender|Salary|DeptId|\n",
            "+-----+---+------+------+------+\n",
            "|James| 34|     M|  3000|     1|\n",
            "| Anna| 28|     F|  4100|     2|\n",
            "|  Lee| 23|     M|  2700|     1|\n",
            "+-----+---+------+------+------+\n",
            "\n",
            "+----+---+\n",
            "|Name|Age|\n",
            "+----+---+\n",
            "|Anna| 28|\n",
            "+----+---+\n",
            "\n",
            "+------------------+\n",
            "|       avg(Salary)|\n",
            "+------------------+\n",
            "|3266.6666666666665|\n",
            "+------------------+\n",
            "\n"
          ]
        }
      ],
      "source": [
        "data = [\n",
        "    ('James', 34, 'M', 3000, 1),\n",
        "    ('Anna', 28, 'F', 4100, 2),\n",
        "    ('Lee', 23, 'M', 2700, 1)\n",
        "]\n",
        "columns = ['Name', 'Age', 'Gender', 'Salary', 'DeptId']\n",
        "df = spark.createDataFrame(data, schema=columns)\n",
        "df.createOrReplaceTempView('employees')\n",
        "spark.sql('SELECT * FROM employees').show()\n",
        "spark.sql('SELECT Name, Age FROM employees WHERE Salary > 3000').show()\n",
        "spark.sql('SELECT AVG(Salary) FROM employees').show()\n"
      ]
    },
    {
      "cell_type": "markdown",
      "id": "9fd8b4f1",
      "metadata": {
        "id": "9fd8b4f1"
      },
      "source": [
        "### 2. Advanced Queries for Data Analysis\n",
        "Gunakan queries lebih kompleks, melibatkan grouping, filtering, dan subqueries.\n",
        "- **Tugas 2**: Buat SQL query yang menghitung total gaji berdasarkan jenis kelamin dan usia.\n"
      ]
    },
    {
      "cell_type": "code",
      "execution_count": null,
      "id": "4fc8a9e6",
      "metadata": {
        "colab": {
          "base_uri": "https://localhost:8080/"
        },
        "id": "4fc8a9e6",
        "outputId": "5a7b1072-3bee-4cdc-bb66-619e2e28864d"
      },
      "outputs": [
        {
          "output_type": "stream",
          "name": "stdout",
          "text": [
            "+------+-----------+---+\n",
            "|Gender|TotalSalary|Age|\n",
            "+------+-----------+---+\n",
            "|     M|       2700| 23|\n",
            "|     F|       4100| 28|\n",
            "|     M|       3000| 34|\n",
            "+------+-----------+---+\n",
            "\n"
          ]
        }
      ],
      "source": [
        "spark.sql('''\n",
        "SELECT Gender, SUM(Salary) as TotalSalary, Age\n",
        "FROM employees\n",
        "GROUP BY Gender, Age\n",
        "ORDER BY Age\n",
        "''').show()"
      ]
    },
    {
      "cell_type": "markdown",
      "id": "18b3ccb1",
      "metadata": {
        "id": "18b3ccb1"
      },
      "source": [
        "- **Tugas Tambahan 2**:\n",
        "1. Cari rata-rata gaji per departemen.\n",
        "2. Temukan karyawan yang memiliki gaji di atas rata-rata untuk gender masing-masing.\n",
        "3. Buat ranking karyawan berdasarkan gaji dalam departemen mereka.\n"
      ]
    },
    {
      "cell_type": "code",
      "source": [
        "spark.sql('SELECT DeptId, AVG(Salary) FROM employees GROUP BY DeptId').show()\n",
        "\n",
        "spark.sql('''\n",
        "SELECT Name, Age, Gender, Salary\n",
        "FROM employees e\n",
        "WHERE Salary > (\n",
        "    SELECT AVG(Salary)\n",
        "    FROM employees\n",
        "    WHERE Gender = e.Gender\n",
        "    )\n",
        "''').show()\n",
        "\n",
        "spark.sql('''\n",
        "SELECT Name, Age, Gender, Salary, DeptId,\n",
        "RANK() OVER (PARTITION BY DeptId ORDER BY Salary DESC) as RANK\n",
        "FROM employees\n",
        "''').show()\n"
      ],
      "metadata": {
        "colab": {
          "base_uri": "https://localhost:8080/"
        },
        "id": "cf59Keky1Etk",
        "outputId": "322e0147-8490-4e9e-dbbf-b7e14a97a491"
      },
      "id": "cf59Keky1Etk",
      "execution_count": null,
      "outputs": [
        {
          "output_type": "stream",
          "name": "stdout",
          "text": [
            "+------+-----------+\n",
            "|DeptId|avg(Salary)|\n",
            "+------+-----------+\n",
            "|     1|     2850.0|\n",
            "|     2|     4100.0|\n",
            "+------+-----------+\n",
            "\n",
            "+-----+---+------+------+\n",
            "| Name|Age|Gender|Salary|\n",
            "+-----+---+------+------+\n",
            "|James| 34|     M|  3000|\n",
            "+-----+---+------+------+\n",
            "\n",
            "+-----+---+------+------+------+----+\n",
            "| Name|Age|Gender|Salary|DeptId|RANK|\n",
            "+-----+---+------+------+------+----+\n",
            "|James| 34|     M|  3000|     1|   1|\n",
            "|  Lee| 23|     M|  2700|     1|   2|\n",
            "| Anna| 28|     F|  4100|     2|   1|\n",
            "+-----+---+------+------+------+----+\n",
            "\n"
          ]
        }
      ]
    },
    {
      "cell_type": "markdown",
      "id": "3c4fffdc",
      "metadata": {
        "id": "3c4fffdc"
      },
      "source": [
        "### 3. Penggunaan Window Functions dan Subqueries\n",
        "Latihan penggunaan window functions untuk menemukan karyawan dengan gaji tertinggi dan urutannya berdasarkan kelompok usia.\n",
        "- **Tugas 3**: Terapkan window functions untuk menemukan top 3 karyawan dalam kelompok usia tertentu.\n"
      ]
    },
    {
      "cell_type": "code",
      "execution_count": null,
      "id": "eb927310",
      "metadata": {
        "colab": {
          "base_uri": "https://localhost:8080/"
        },
        "id": "eb927310",
        "outputId": "96df2f26-f8bb-427d-d97d-0e46fe7edbba"
      },
      "outputs": [
        {
          "output_type": "stream",
          "name": "stdout",
          "text": [
            "+-----+---+------+----+\n",
            "| Name|Age|Salary|rank|\n",
            "+-----+---+------+----+\n",
            "|  Lee| 23|  2700|   1|\n",
            "| Anna| 28|  4100|   1|\n",
            "|James| 34|  3000|   1|\n",
            "+-----+---+------+----+\n",
            "\n"
          ]
        }
      ],
      "source": [
        "spark.sql('''\n",
        "SELECT Name, Age, Salary, ROW_NUMBER() OVER (PARTITION BY Age ORDER BY Salary DESC) as rank\n",
        "FROM employees\n",
        "''').show()\n"
      ]
    },
    {
      "cell_type": "markdown",
      "id": "5fb43ac4",
      "metadata": {
        "id": "5fb43ac4"
      },
      "source": [
        "### 4. Advanced Spark SQL Queries\n",
        "Menjelajahi queries yang lebih kompleks yang melibatkan multiple joins, subqueries, dan window functions.\n",
        "- **Tugas 4**: Demonstrasi penggunaan multi-level joins dan subqueries untuk analisis data yang mendalam.\n"
      ]
    },
    {
      "cell_type": "code",
      "execution_count": null,
      "id": "f1bfd9fd",
      "metadata": {
        "colab": {
          "base_uri": "https://localhost:8080/"
        },
        "id": "f1bfd9fd",
        "outputId": "a1cb8938-4a90-4ff8-afdd-76d8f9d47837"
      },
      "outputs": [
        {
          "output_type": "stream",
          "name": "stdout",
          "text": [
            "+-----+---+---------+-----------+\n",
            "| Name|Age| DeptName|ProjectName|\n",
            "+-----+---+---------+-----------+\n",
            "|  Lee| 23|       HR|  Project A|\n",
            "|James| 34|       HR|  Project A|\n",
            "| Anna| 28|Marketing|  Project B|\n",
            "+-----+---+---------+-----------+\n",
            "\n"
          ]
        }
      ],
      "source": [
        "from pyspark.sql import SparkSession\n",
        "spark = SparkSession.builder.appName('Pertemuan9').getOrCreate()\n",
        "\n",
        "# Data setup for complex SQL queries\n",
        "employees = spark.createDataFrame([\n",
        "    ('James', 34, 'M', 3000, 1),\n",
        "    ('Anna', 28, 'F', 4100, 2),\n",
        "    ('Lee', 23, 'M', 2700, 1)\n",
        "], ['Name', 'Age', 'Gender', 'Salary', 'DeptId'])\n",
        "departments = spark.createDataFrame([\n",
        "    (1, 'HR'),\n",
        "    (2, 'Marketing')\n",
        "], ['DeptId', 'DeptName'])\n",
        "projects = spark.createDataFrame([\n",
        "    (1, 'Project A'),\n",
        "    (2, 'Project B')\n",
        "], ['DeptId', 'ProjectName'])\n",
        "employees.createOrReplaceTempView('employees')\n",
        "departments.createOrReplaceTempView('departments')\n",
        "projects.createOrReplaceTempView('projects')\n",
        "\n",
        "# Complex SQL query involving multiple joins and subqueries\n",
        "spark.sql('''\n",
        "SELECT e.Name, e.Age, d.DeptName, p.ProjectName\n",
        "FROM employees e\n",
        "JOIN departments d ON e.DeptId = d.DeptId\n",
        "JOIN projects p ON e.DeptId = p.DeptId\n",
        "''').show()\n"
      ]
    },
    {
      "cell_type": "markdown",
      "id": "ad25f1f0",
      "metadata": {
        "id": "ad25f1f0"
      },
      "source": [
        "Latihan mandiri untuk memperkuat pemahaman tentang Spark SQL dalam analisis data terdistribusi.\n",
        "- **Tugas 5**: Tuliskan query SQL untuk menemukan rata-rata gaji per departemen dan rangking setiap karyawan dalam departemen berdasarkan gaji.\n",
        "- **Tugas 6**: Gunakan window functions untuk menentukan tren gaji berdasarkan usia di setiap departemen.\n"
      ]
    },
    {
      "cell_type": "code",
      "source": [
        "spark.sql('''\n",
        "SELECT e.Name, e.Age, d.DeptName, AVG(e.Salary) OVER (PARTITION BY d.DeptName) as AverageSalary\n",
        "FROM employees e\n",
        "JOIN departments d ON e.DeptId = d.DeptId\n",
        "''').show()\n",
        "\n",
        "spark.sql('''\n",
        "SELECT e.Name, e.Age, d.DeptName, ROW_NUMBER() OVER (PARTITION BY d.DeptName ORDER BY e.Salary DESC) as rank\n",
        "FROM employees e\n",
        "JOIN departments d ON e.DeptId = d.DeptId\n",
        "''').show()"
      ],
      "metadata": {
        "colab": {
          "base_uri": "https://localhost:8080/"
        },
        "id": "43-GPxLN7ad0",
        "outputId": "05c48fa4-f879-4c0c-a52d-0b6c7f62738f"
      },
      "id": "43-GPxLN7ad0",
      "execution_count": null,
      "outputs": [
        {
          "output_type": "stream",
          "name": "stdout",
          "text": [
            "+-----+---+---------+-------------+\n",
            "| Name|Age| DeptName|AverageSalary|\n",
            "+-----+---+---------+-------------+\n",
            "|James| 34|       HR|       2850.0|\n",
            "|  Lee| 23|       HR|       2850.0|\n",
            "| Anna| 28|Marketing|       4100.0|\n",
            "+-----+---+---------+-------------+\n",
            "\n",
            "+-----+---+---------+----+\n",
            "| Name|Age| DeptName|rank|\n",
            "+-----+---+---------+----+\n",
            "|James| 34|       HR|   1|\n",
            "|  Lee| 23|       HR|   2|\n",
            "| Anna| 28|Marketing|   1|\n",
            "+-----+---+---------+----+\n",
            "\n"
          ]
        }
      ]
    },
    {
      "cell_type": "markdown",
      "id": "88a2c206",
      "metadata": {
        "id": "88a2c206"
      },
      "source": [
        "### 5. Advanced Data Analysis and Visualization\n",
        "Penerapan teknik analisis data yang lebih canggih dan visualisasi menggunakan PySpark dan matplotlib.\n",
        "- **Tugas 7**: Lakukan analisis tren gaji menggunakan Spark SQL dan visualisasikan hasilnya.\n"
      ]
    },
    {
      "cell_type": "code",
      "execution_count": null,
      "id": "a170f256",
      "metadata": {
        "colab": {
          "base_uri": "https://localhost:8080/",
          "height": 487
        },
        "id": "a170f256",
        "outputId": "9d98b41d-8b64-43aa-ac00-b775cd1a0299"
      },
      "outputs": [
        {
          "output_type": "display_data",
          "data": {
            "text/plain": [
              "<Figure size 1000x500 with 1 Axes>"
            ],
            "image/png": "[encoded data removed]"
          },
          "metadata": {}
        }
      ],
      "source": [
        "import matplotlib.pyplot as plt\n",
        "import pandas as pd\n",
        "\n",
        "# Advanced data analysis with visualization\n",
        "salary_trends = spark.sql('''\n",
        "SELECT Age, AVG(Salary) AS AverageSalary\n",
        "FROM employees\n",
        "GROUP BY Age\n",
        "ORDER BY Age\n",
        "''').toPandas()\n",
        "\n",
        "# Visualization of salary trends\n",
        "plt.figure(figsize=(10, 5))\n",
        "plt.plot(salary_trends['Age'], salary_trends['AverageSalary'], marker='o')\n",
        "plt.xlabel('Age')\n",
        "plt.ylabel('Average Salary')\n",
        "plt.title('Salary Trends by Age')\n",
        "plt.grid(True)\n",
        "plt.show()\n"
      ]
    },
    {
      "cell_type": "markdown",
      "id": "dd314ae9",
      "metadata": {
        "id": "dd314ae9"
      },
      "source": [
        "### 6. Homework\n",
        "- **Tugas 1**: Gunakan Spark SQL untuk mencari total gaji dan jumlah karyawan per departemen. Buat visualisasi perbandingan antar departemen.\n",
        "- **Tugas 2**: Temukan karyawan dengan gaji di atas rata-rata dalam setiap kelompok usia dan visualisasikan data ini dalam bentuk grafik batang atau pie chart.\n",
        "- **Tugas 3**: Buat dataset yang lebih besar (misalnya, 100+ baris) dan lakukan analisis mendalam menggunakan SQL functions seperti `SUM()`, `AVG()`, `COUNT()`, serta `JOIN` antar tabel.\n"
      ]
    },
    {
      "cell_type": "markdown",
      "source": [
        "Tugas 1"
      ],
      "metadata": {
        "id": "cRM6C1_hVOzM"
      },
      "id": "cRM6C1_hVOzM"
    },
    {
      "cell_type": "code",
      "source": [
        "from pyspark.sql import SparkSession\n",
        "import matplotlib.pyplot as plt\n",
        "\n",
        "# Buat SparkSession\n",
        "spark = SparkSession.builder.appName('TotalSalaryPerDepartment').getOrCreate()\n",
        "\n",
        "\n",
        "# Buat tabel sementara\n",
        "employees.createOrReplaceTempView('employees')\n",
        "departments.createOrReplaceTempView('departments')\n",
        "\n",
        "# SQL Query untuk mencari total gaji dan jumlah karyawan per departemen\n",
        "salary_count_by_department = spark.sql(\"\"\"\n",
        "    SELECT d.DeptName, COUNT(e.Name) AS EmployeeCount, SUM(e.Salary) AS TotalSalary\n",
        "    FROM employees e\n",
        "    JOIN departments d ON e.DeptId = d.DeptId\n",
        "    GROUP BY d.DeptName\n",
        "\"\"\")\n",
        "\n",
        "# Konversi hasil query ke Pandas DataFrame untuk visualisasi\n",
        "pandas_df = salary_count_by_department.toPandas()\n",
        "\n",
        "# Visualisasi perbandingan jumlah karyawan dan total gaji antar departemen\n",
        "fig, ax1 = plt.subplots(figsize=(10, 6))\n",
        "\n",
        "# Plot bar untuk jumlah karyawan\n",
        "ax1.bar(pandas_df['DeptName'], pandas_df['EmployeeCount'], color='blue', label='Jumlah Karyawan')\n",
        "ax1.set_xlabel('Departemen')\n",
        "ax1.set_ylabel('Jumlah Karyawan', color='blue')\n",
        "ax1.tick_params(axis='y', labelcolor='blue')\n",
        "\n",
        "# Buat sumbu kedua untuk total gaji\n",
        "ax2 = ax1.twinx()\n",
        "ax2.plot(pandas_df['DeptName'], pandas_df['TotalSalary'], color='green', marker='o', label='Total Gaji')\n",
        "ax2.set_ylabel('Total Gaji', color='green')\n",
        "ax2.tick_params(axis='y', labelcolor='green')\n",
        "\n",
        "# Tambahkan judul\n",
        "plt.title('Perbandingan Jumlah Karyawan dan Total Gaji per Departemen')\n",
        "\n",
        "# Menampilkan grafik\n",
        "fig.tight_layout()\n",
        "plt.show()\n"
      ],
      "metadata": {
        "colab": {
          "base_uri": "https://localhost:8080/",
          "height": 402
        },
        "id": "PFdT8wfuUyIy",
        "outputId": "480deba7-b5cd-4b44-fb16-fc6337b51f83"
      },
      "id": "PFdT8wfuUyIy",
      "execution_count": 14,
      "outputs": [
        {
          "output_type": "display_data",
          "data": {
            "text/plain": [
              "<Figure size 1000x600 with 2 Axes>"
            ],
            "image/png": "[encoded data removed]"
          },
          "metadata": {}
        }
      ]
    },
    {
      "cell_type": "markdown",
      "source": [
        "Tugas 2"
      ],
      "metadata": {
        "id": "vt7l3UkUVRb5"
      },
      "id": "vt7l3UkUVRb5"
    },
    {
      "cell_type": "code",
      "source": [
        "from pyspark.sql import SparkSession\n",
        "import matplotlib.pyplot as plt\n",
        "\n",
        "# Buat SparkSession\n",
        "spark = SparkSession.builder.appName('Pertemuan9').getOrCreate()\n",
        "\n",
        "# Register DataFrame sebagai view SQL\n",
        "employees.createOrReplaceTempView('employees')\n",
        "\n",
        "# Query untuk mencari karyawan dengan gaji di atas rata-rata per kelompok usia\n",
        "average_salary_by_age = spark.sql(\"\"\"\n",
        "    SELECT Age, AVG(Salary) as AvgSalary\n",
        "    FROM employees\n",
        "    GROUP BY Age\n",
        "\"\"\")\n",
        "\n",
        "average_salary_by_age.createOrReplaceTempView('average_salary_by_age')\n",
        "\n",
        "# Gabungkan untuk menemukan karyawan dengan gaji di atas rata-rata di kelompok usia mereka\n",
        "above_average_employees = spark.sql(\"\"\"\n",
        "    SELECT e.Age, e.Name, e.Salary\n",
        "    FROM employees e\n",
        "    JOIN average_salary_by_age avg ON e.Age = avg.Age\n",
        "    WHERE e.Salary > avg.AvgSalary\n",
        "\"\"\")\n",
        "\n",
        "# Konversi ke Pandas DataFrame untuk visualisasi\n",
        "pandas_df = above_average_employees.toPandas()\n",
        "\n",
        "# Hitung jumlah karyawan di atas rata-rata per kelompok usia\n",
        "counts = pandas_df.groupby('Age').size()\n",
        "\n",
        "# Buat grafik batang\n",
        "plt.bar(counts.index, counts.values)\n",
        "plt.xlabel('Usia')\n",
        "plt.ylabel('Jumlah Karyawan di Atas Rata-rata')\n",
        "plt.title('Jumlah Karyawan dengan Gaji di Atas Rata-rata per Kelompok Usia')\n",
        "plt.show()\n"
      ],
      "metadata": {
        "colab": {
          "base_uri": "https://localhost:8080/",
          "height": 472
        },
        "id": "ObIL-c_19YNk",
        "outputId": "295adb6f-deae-495f-d136-a523ce75a5bd"
      },
      "id": "ObIL-c_19YNk",
      "execution_count": 15,
      "outputs": [
        {
          "output_type": "display_data",
          "data": {
            "text/plain": [
              "<Figure size 640x480 with 1 Axes>"
            ],
            "image/png": "[encoded data removed]"
          },
          "metadata": {}
        }
      ]
    },
    {
      "cell_type": "markdown",
      "source": [
        "Tugas 3"
      ],
      "metadata": {
        "id": "IWWO6nFiVUVF"
      },
      "id": "IWWO6nFiVUVF"
    },
    {
      "cell_type": "code",
      "source": [
        "from pyspark.sql import SparkSession\n",
        "import pandas as pd\n",
        "import matplotlib.pyplot as plt\n",
        "\n",
        "# Inisialisasi SparkSession\n",
        "spark = SparkSession.builder.appName('ManualDatasetAnalysis').getOrCreate()\n",
        "\n",
        "# Data Setup\n",
        "# Departemen\n",
        "departments_data = [\n",
        "    (1, 'HR'),\n",
        "    (2, 'Marketing'),\n",
        "    (3, 'Engineering'),\n",
        "    (4, 'Sales'),\n",
        "    (5, 'Finance')\n",
        "]\n",
        "departments = spark.createDataFrame(departments_data, ['DeptId', 'DeptName'])\n",
        "\n",
        "# Karyawan (110 data)\n",
        "employees_data = [\n",
        "    ('Joko', 30, 'M', 6000, 1),\n",
        "    ('Siti', 28, 'F', 6500, 2),\n",
        "    ('Yanto', 35, 'M', 7000, 3),\n",
        "    ('Ayu', 26, 'F', 5500, 1),\n",
        "    ('Budi', 40, 'M', 9000, 4),\n",
        "    ('Sari', 32, 'F', 7500, 2),\n",
        "    ('Joni', 45, 'M', 8000, 5),\n",
        "    ('Sofi', 27, 'F', 7200, 3),\n",
        "    ('Pulung', 38, 'M', 7800, 4),\n",
        "    ('Ela', 29, 'F', 6800, 5),\n",
        "    ('Saman', 33, 'M', 6200, 1),\n",
        "    ('Karina', 31, 'F', 5900, 2),\n",
        "    ('Tomi', 36, 'M', 6400, 3),\n",
        "    ('Rina', 25, 'F', 5600, 4),\n",
        "    ('Yoko', 41, 'M', 8200, 5),\n",
        "    ('Lisa', 34, 'F', 7000, 1),\n",
        "    ('Junaedi', 39, 'M', 7100, 2),\n",
        "    ('Mayang', 27, 'F', 5900, 3),\n",
        "    ('Lukman', 30, 'M', 6000, 4),\n",
        "    ('Eli', 28, 'F', 7200, 5),\n",
        "    ('Rafi', 37, 'M', 7500, 1),\n",
        "    ('Zahra', 29, 'F', 6800, 2),\n",
        "    ('Dedi', 34, 'M', 7900, 3),\n",
        "    ('Klara', 36, 'F', 7000, 4),\n",
        "    ('Pur', 42, 'M', 8500, 5),\n",
        "    ('Salisa', 25, 'F', 5700, 1),\n",
        "    ('Mat', 33, 'M', 6300, 2),\n",
        "    ('Julia', 30, 'F', 6500, 3),\n",
        "    ('Rido', 35, 'M', 7200, 4),\n",
        "    ('Naura', 40, 'F', 7800, 5),\n",
        "    ('Ferdi', 29, 'M', 6100, 1),\n",
        "    ('Oliv', 31, 'F', 5400, 2),\n",
        "    ('Beni', 38, 'M', 6600, 3),\n",
        "    ('Kirana', 27, 'F', 5800, 4),\n",
        "    ('Timoty', 39, 'M', 7300, 5),\n",
        "    ('Gita', 26, 'F', 5900, 1),\n",
        "    ('Febri', 34, 'M', 6000, 2),\n",
        "    ('Desi', 30, 'F', 6200, 3),\n",
        "    ('Kevin', 42, 'M', 8300, 4),\n",
        "    ('Eva', 36, 'F', 7100, 5),\n",
        "    ('Toko', 33, 'M', 5900, 1),\n",
        "    ('Ami', 30, 'F', 5700, 2),\n",
        "    ('Gofar', 41, 'M', 8500, 3),\n",
        "    ('Meli', 25, 'F', 5300, 4),\n",
        "    ('Viki', 39, 'M', 7400, 5),\n",
        "    ('Jesika', 34, 'F', 6000, 1),\n",
        "    ('Mamat', 38, 'M', 6600, 2),\n",
        "    ('Anjani', 32, 'F', 7200, 3),\n",
        "    ('Kolis', 27, 'M', 5900, 4),\n",
        "    ('Kayla', 31, 'F', 6800, 5),\n",
        "    ('Juki', 36, 'M', 7300, 1),\n",
        "    ('Mega', 29, 'F', 6400, 2),\n",
        "    ('Luki', 34, 'M', 7000, 3),\n",
        "    ('Freya', 25, 'F', 5500, 4),\n",
        "    ('Dodo', 39, 'M', 7800, 5),\n",
        "    ('Soya', 36, 'F', 7200, 1),\n",
        "    ('Adam', 30, 'M', 6200, 2),\n",
        "    ('Elita', 27, 'F', 6000, 3),\n",
        "    ('Coki', 35, 'M', 6600, 4),\n",
        "    ('Mey', 32, 'F', 7000, 5),\n",
        "    ('Sigit', 28, 'M', 5900, 1),\n",
        "    ('Clara', 29, 'F', 5700, 2),\n",
        "    ('Oman', 40, 'M', 8500, 3),\n",
        "    ('Lily', 36, 'F', 7200, 4),\n",
        "    ('Gumilang', 42, 'M', 8300, 5),\n",
        "    ('Jupri', 33, 'M', 6700, 1),\n",
        "    ('Cica', 28, 'F', 5800, 2),\n",
        "    ('Ryan', 38, 'M', 7100, 3),\n",
        "    ('Rika', 30, 'F', 5400, 4),\n",
        "    ('Viko', 34, 'M', 6200, 5),\n",
        "    ('Arumi', 25, 'F', 5600, 1),\n",
        "    ('Erik', 32, 'M', 6600, 2),\n",
        "    ('Soli', 40, 'F', 7900, 3),\n",
        "    ('Kambuya', 36, 'M', 8300, 4),\n",
        "    ('Tina', 29, 'F', 6500, 5),\n",
        "    ('Justin', 31, 'M', 6000, 1),\n",
        "    ('Mila', 34, 'F', 6700, 2),\n",
        "    ('Arndy', 27, 'M', 6200, 3),\n",
        "    ('Gressel', 38, 'F', 7100, 4),\n",
        "    ('Billy', 35, 'M', 6800, 5),\n",
        "    ('Elsa', 30, 'F', 6400, 1),\n",
        "    ('Hery', 29, 'M', 6100, 2),\n",
        "    ('Luna', 32, 'F', 6800, 3),\n",
        "    ('Agil', 42, 'M', 8500, 4),\n",
        "    ('Tedi', 36, 'M', 7200, 5),\n",
        "]\n",
        "\n",
        "# Buat DataFrame karyawan\n",
        "employees = spark.createDataFrame(employees_data, ['Name', 'Age', 'Gender', 'Salary', 'DeptId'])\n",
        "\n",
        "# Buat tabel sementara\n",
        "employees.createOrReplaceTempView('employees')\n",
        "departments.createOrReplaceTempView('departments')\n",
        "\n",
        "# Analisis SQL\n",
        "# 1. Total Gaji dan Jumlah Karyawan per Departemen\n",
        "salary_count_by_department = spark.sql(\"\"\"\n",
        "    SELECT d.DeptName, COUNT(e.Name) AS EmployeeCount, SUM(e.Salary) AS TotalSalary\n",
        "    FROM employees e\n",
        "    JOIN departments d ON e.DeptId = d.DeptId\n",
        "    GROUP BY d.DeptName\n",
        "    ORDER BY TotalSalary DESC\n",
        "\"\"\")\n",
        "salary_count_by_department.show()\n",
        "\n",
        "# 2. Rata-rata Gaji dan Umur per Departemen\n",
        "avg_salary_age_by_department = spark.sql(\"\"\"\n",
        "    SELECT d.DeptName, AVG(e.Salary) AS AvgSalary, AVG(e.Age) AS AvgAge\n",
        "    FROM employees e\n",
        "    JOIN departments d ON e.DeptId = d.DeptId\n",
        "    GROUP BY d.DeptName\n",
        "    ORDER BY AvgSalary DESC\n",
        "\"\"\")\n",
        "avg_salary_age_by_department.show()\n",
        "\n",
        "# 3. Jumlah Karyawan Berdasarkan Gender per Departemen\n",
        "gender_count_by_department = spark.sql(\"\"\"\n",
        "    SELECT d.DeptName, e.Gender, COUNT(e.Name) AS EmployeeCount\n",
        "    FROM employees e\n",
        "    JOIN departments d ON e.DeptId = d.DeptId\n",
        "    GROUP BY d.DeptName, e.Gender\n",
        "    ORDER BY d.DeptName, EmployeeCount DESC\n",
        "\"\"\")\n",
        "gender_count_by_department.show()\n"
      ],
      "metadata": {
        "id": "A_s6eN0SIlwC",
        "colab": {
          "base_uri": "https://localhost:8080/"
        },
        "outputId": "b753ed3b-d9a6-40c1-92a3-3d1421fd3482"
      },
      "id": "A_s6eN0SIlwC",
      "execution_count": 21,
      "outputs": [
        {
          "output_type": "stream",
          "name": "stdout",
          "text": [
            "+-----------+-------------+-----------+\n",
            "|   DeptName|EmployeeCount|TotalSalary|\n",
            "+-----------+-------------+-----------+\n",
            "|    Finance|           17|     124900|\n",
            "|Engineering|           17|     118900|\n",
            "|      Sales|           17|     116500|\n",
            "|  Marketing|           17|     107300|\n",
            "|         HR|           17|     106900|\n",
            "+-----------+-------------+-----------+\n",
            "\n",
            "+-----------+-----------------+------------------+\n",
            "|   DeptName|        AvgSalary|            AvgAge|\n",
            "+-----------+-----------------+------------------+\n",
            "|    Finance|7347.058823529412|36.294117647058826|\n",
            "|Engineering|6994.117647058823|33.411764705882355|\n",
            "|      Sales|6852.941176470588| 33.35294117647059|\n",
            "|  Marketing|6311.764705882353|31.529411764705884|\n",
            "|         HR|6288.235294117647|30.941176470588236|\n",
            "+-----------+-----------------+------------------+\n",
            "\n",
            "+-----------+------+-------------+\n",
            "|   DeptName|Gender|EmployeeCount|\n",
            "+-----------+------+-------------+\n",
            "|Engineering|     M|            9|\n",
            "|Engineering|     F|            8|\n",
            "|    Finance|     M|           10|\n",
            "|    Finance|     F|            7|\n",
            "|         HR|     M|            9|\n",
            "|         HR|     F|            8|\n",
            "|  Marketing|     F|           10|\n",
            "|  Marketing|     M|            7|\n",
            "|      Sales|     M|            9|\n",
            "|      Sales|     F|            8|\n",
            "+-----------+------+-------------+\n",
            "\n"
          ]
        }
      ]
    },
    {
      "cell_type": "code",
      "source": [],
      "metadata": {
        "id": "49UHW0HQWFM3"
      },
      "id": "49UHW0HQWFM3",
      "execution_count": null,
      "outputs": []
    }
  ],
  "metadata": {
    "language_info": {
      "name": "python"
    },
    "colab": {
      "provenance": []
    },
    "kernelspec": {
      "name": "python3",
      "display_name": "Python 3"
    }
  },
  "nbformat": 4,
  "nbformat_minor": 5
}